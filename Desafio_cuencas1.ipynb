{
 "cells": [
  {
   "cell_type": "markdown",
   "metadata": {},
   "source": [
    "## Caudales extremos en Chile"
   ]
  },
  {
   "cell_type": "code",
   "execution_count": null,
   "metadata": {},
   "outputs": [],
   "source": []
  },
  {
   "cell_type": "code",
   "execution_count": null,
   "metadata": {},
   "outputs": [],
   "source": [
    "import pandas as pd\n",
    "import numpy as np"
   ]
  },
  {
   "cell_type": "code",
   "execution_count": null,
   "metadata": {},
   "outputs": [],
   "source": [
    "#Cargamos el dataset\n",
    "dir = \"desafio_spike_cuencas-master/caudal_extra.csv\"\n",
    "df = pd.read_csv(dir)"
   ]
  },
  {
   "cell_type": "code",
   "execution_count": null,
   "metadata": {},
   "outputs": [],
   "source": [
    "#Cantidad de nulls\n",
    "df.isnull().sum()"
   ]
  },
  {
   "cell_type": "markdown",
   "metadata": {},
   "source": [
    "### Análisis dataset"
   ]
  },
  {
   "cell_type": "code",
   "execution_count": null,
   "metadata": {},
   "outputs": [],
   "source": [
    "df.tail()"
   ]
  },
  {
   "cell_type": "code",
   "execution_count": null,
   "metadata": {},
   "outputs": [],
   "source": [
    "df.shape"
   ]
  },
  {
   "cell_type": "code",
   "execution_count": null,
   "metadata": {},
   "outputs": [],
   "source": [
    "df.describe()"
   ]
  },
  {
   "cell_type": "markdown",
   "metadata": {},
   "source": [
    "Vemos que las columnas correspondientes a precip_promedio y temp_max_promedio tienen menor valor en conteo que el n° de filas del data set, ahí tenemos missing values. Esto probablemente ocurre porque hay cuencas sin estaciones de temperatura o precipitación y por lo tanto nunca se adquirieron esos datos."
   ]
  },
  {
   "cell_type": "code",
   "execution_count": null,
   "metadata": {},
   "outputs": [],
   "source": [
    "df.columns.values.tolist()"
   ]
  },
  {
   "cell_type": "code",
   "execution_count": null,
   "metadata": {},
   "outputs": [],
   "source": [
    "#Eliminaremos algunas columnas del dataset que puedan representar información redundante o que no añadan nada \n",
    "#relevante\n",
    "drop = list([\"Unnamed: 0\",\"institucion\",\"fuente\",\"codigo_cuenca\",\"gauge_name\",])"
   ]
  },
  {
   "cell_type": "code",
   "execution_count": null,
   "metadata": {},
   "outputs": [],
   "source": [
    "df = df.drop(drop,axis=1)"
   ]
  },
  {
   "cell_type": "code",
   "execution_count": null,
   "metadata": {},
   "outputs": [],
   "source": [
    "df.shape"
   ]
  },
  {
   "cell_type": "code",
   "execution_count": null,
   "metadata": {},
   "outputs": [],
   "source": [
    "df.columns.values"
   ]
  },
  {
   "cell_type": "code",
   "execution_count": null,
   "metadata": {},
   "outputs": [],
   "source": [
    "import matplotlib.pyplot as plt"
   ]
  },
  {
   "cell_type": "code",
   "execution_count": null,
   "metadata": {},
   "outputs": [],
   "source": [
    "#Gráficos de dispersión para observar correlación entre variables\n",
    "\n",
    "#Relación caudal con precipitación promedio\n",
    "df.plot(kind=\"scatter\",x=\"precip_promedio\",y=\"caudal\")"
   ]
  },
  {
   "cell_type": "markdown",
   "metadata": {},
   "source": [
    "Aquí pareciera haber una tendencia a que a medida que la precipitación promedio aumenta, el caudal disminuye,\n",
    "o equivalentemente, a medida que la precipitación promedio disminuye el caudal aumenta. Esto podría ser porque \n",
    "al cambiar de estación invernal a primavera las lluvias disminuyen pero comienza a derretirse la nieve, con \n",
    "la consecuencia de que aumentan los caudales."
   ]
  },
  {
   "cell_type": "code",
   "execution_count": null,
   "metadata": {},
   "outputs": [],
   "source": [
    "#Relación caudal con temperatura máxima promedio\n",
    "df.plot(kind=\"scatter\",x=\"temp_max_promedio\",y=\"caudal\")"
   ]
  },
  {
   "cell_type": "code",
   "execution_count": null,
   "metadata": {},
   "outputs": [],
   "source": [
    "df.plot(kind=\"scatter\",x=\"temp_max_promedio\",y=\"precip_promedio\")"
   ]
  },
  {
   "cell_type": "code",
   "execution_count": null,
   "metadata": {},
   "outputs": [],
   "source": [
    "#Histogramas\n",
    "bins = int(np.ceil(1+np.log2(1411180))) #divisiones histograma\n",
    "#Caudal\n",
    "plt.hist(df[\"caudal\"],bins=bins)\n",
    "#data = df[df[\"year\"]==2000]\n",
    "#plt.hist(data[\"caudal\"])\n",
    "plt.xlabel(\"Caudal\")\n",
    "plt.ylabel(\"Frecuencia\")\n",
    "plt.title(\"Histograma de caudal\")\n",
    "\n"
   ]
  },
  {
   "cell_type": "code",
   "execution_count": null,
   "metadata": {},
   "outputs": [],
   "source": []
  },
  {
   "cell_type": "code",
   "execution_count": null,
   "metadata": {},
   "outputs": [],
   "source": []
  },
  {
   "cell_type": "code",
   "execution_count": null,
   "metadata": {},
   "outputs": [],
   "source": [
    "#Precipitación promedio\n",
    "plt.hist(df[\"precip_promedio\"].dropna(),bins=bins)\n",
    "plt.xlabel(\"Precipitación promedio\")\n",
    "plt.ylabel(\"Frecuencia\")\n",
    "plt.title(\"Histograma de precipitación promedio\")"
   ]
  },
  {
   "cell_type": "code",
   "execution_count": null,
   "metadata": {},
   "outputs": [],
   "source": [
    "#Temperatura máxima promedio\n",
    "plt.hist(df[\"temp_max_promedio\"].dropna(),bins=bins)\n",
    "plt.xlabel(\"Temperatura máxima promedio\")\n",
    "plt.ylabel(\"Frecuencia\")\n",
    "plt.title(\"Histograma de temperatura máxima promedio\")"
   ]
  },
  {
   "cell_type": "markdown",
   "metadata": {},
   "source": [
    "El caudal y la precipitacion promedio se concentran en ciertos valores, en el caso de caudal promedio\n",
    "los valores se concentran entre 0 y 500 aprox, mientras que en el caso de la precipitacion promedio esta \n",
    "se concentra entrte 0 y 2 mm, lo cual tiene sentido porque hay más días con poca lluvia o sin lluvia.\n",
    "Otro dato a considerar es el máximo de precipitacíón en un día, el cual corrsponde a 258 mm.\n",
    "\n",
    "Las temperaturas máximas promedio se distribuyen de una forma que tiene a la distribución normal\n",
    "aunque de manera aproximada, el promedio está en torno a los 15°.\n",
    "\n"
   ]
  },
  {
   "cell_type": "code",
   "execution_count": null,
   "metadata": {},
   "outputs": [],
   "source": [
    "#Reemplazaremos los missing values con el valor más cercano que encuentre\n",
    "#al missing value, ya que las mediciones son en tiempos cercanos y se \n",
    "#espera que por la temporada sean valores cercanos\n",
    "#Precipitación promedio \n",
    "df[\"precip_promedio\"] = df[\"precip_promedio\"].fillna(method=\"ffill\")\n",
    "#Temperatura max \n",
    "df[\"temp_max_promedio\"] = df[\"temp_max_promedio\"].fillna(method=\"ffill\")"
   ]
  },
  {
   "cell_type": "code",
   "execution_count": null,
   "metadata": {},
   "outputs": [],
   "source": [
    "#Quedan algunos nan en temp_max_promedio, los reemplazaremos por la media.\n",
    "df[\"temp_max_promedio\"] = df[\"temp_max_promedio\"].fillna(df[\"temp_max_promedio\"].mean())"
   ]
  },
  {
   "cell_type": "code",
   "execution_count": null,
   "metadata": {},
   "outputs": [],
   "source": [
    "#Lugares donde están las cuencas .... que se están estudiando\n",
    "cuencas_dist = df.nombre.unique()\n",
    "cuencas_dist"
   ]
  },
  {
   "cell_type": "code",
   "execution_count": null,
   "metadata": {},
   "outputs": [],
   "source": []
  },
  {
   "cell_type": "markdown",
   "metadata": {},
   "source": [
    "### Plots precipitación, temperatura, caudal"
   ]
  },
  {
   "cell_type": "code",
   "execution_count": null,
   "metadata": {},
   "outputs": [],
   "source": [
    "#Antes de crear la función veremos qué grupos hay según cada código de\n",
    "#estación\n",
    "num = df.codigo_estacion.unique()\n",
    "print(\"Hay \"+str(len(num))+\" estaciones distintas\")\n",
    "group_codest = df.groupby(\"codigo_estacion\")"
   ]
  },
  {
   "cell_type": "code",
   "execution_count": null,
   "metadata": {},
   "outputs": [],
   "source": [
    "for estacion,grupos in group_codest:\n",
    "    print(estacion)\n",
    "    print(grupos)\n",
    "    "
   ]
  },
  {
   "cell_type": "code",
   "execution_count": null,
   "metadata": {},
   "outputs": [],
   "source": [
    "#Convertiremos la columna fecha de str a objeto datetime y crearemos \n",
    "#una columna donde solo se indique el año.\n"
   ]
  },
  {
   "cell_type": "code",
   "execution_count": null,
   "metadata": {},
   "outputs": [],
   "source": [
    "df[\"fecha\"] = pd.to_datetime(df[\"fecha\"])"
   ]
  },
  {
   "cell_type": "code",
   "execution_count": null,
   "metadata": {},
   "outputs": [],
   "source": [
    "#Nueva columna\n",
    "df[\"year\"] = df[\"fecha\"].dt.year"
   ]
  },
  {
   "cell_type": "code",
   "execution_count": null,
   "metadata": {},
   "outputs": [],
   "source": []
  },
  {
   "cell_type": "code",
   "execution_count": null,
   "metadata": {},
   "outputs": [],
   "source": [
    "#Función para hacer plot de una columna\n",
    "\n",
    "def time_plot_una_estacion(codigo_estacion, columna, fecha_min, fecha_max):\n",
    "    #Ingresar fechas como string en formato 'yyyy-mm-dd'\n",
    "    #codigo_estacion es un numero, columna ingresarlo como string\n",
    "    import matplotlib.pyplot as plt\n",
    "    import matplotlib.ticker as tkr\n",
    "    import matplotlib.dates as mdates\n",
    "    import datetime\n",
    "\n",
    "    #Defino fechas para graficar\n",
    "    start_date = pd.to_datetime(fecha_min)\n",
    "    end_date = pd.to_datetime(fecha_max)\n",
    "    \n",
    "    #Filtro segun codigo_estacion y tomo valores entre las fechas \n",
    "    #indicadas\n",
    "    data = df[(df[\"codigo_estacion\"]==codigo_estacion)&\n",
    "        (df[\"fecha\"]>=start_date) & (df[\"fecha\"]<=end_date)]\n",
    "    #Ordenamos filas según fecha\n",
    "    data2 = data.sort_values(by=[\"fecha\"])\n",
    "\n",
    "    plt.figure(figsize=(20,4))\n",
    "    plt.plot(data2[\"fecha\"],data2[columna])\n",
    "    plt.xlabel('Fecha')\n",
    "    plt.ylabel(str(columna))"
   ]
  },
  {
   "cell_type": "code",
   "execution_count": null,
   "metadata": {},
   "outputs": [],
   "source": [
    "#Probando función\n",
    "#Códigos para probar: 4540001 (1960-1984),10414001 11040001\n",
    "time_plot_una_estacion(4540001,\"precip_promedio\",'1960-01-01','1960-12-31')"
   ]
  },
  {
   "cell_type": "code",
   "execution_count": null,
   "metadata": {},
   "outputs": [],
   "source": [
    "#Función para hacer plot de varias columnas\n",
    "\n",
    "def time_plot_estaciones_varias_columnas(codigo_estacion, columnas, fecha_min, fecha_max):\n",
    "    #Ingresar fechas como string en formato 'yyyy-mm-dd'\n",
    "    #codigo_estacion es un numero\n",
    "    #columnas ingresarlas en el formato: [\"columna1\",\"columna2\",etc]\n",
    "    import matplotlib.pyplot as plt\n",
    "    import matplotlib.ticker as tkr\n",
    "    import matplotlib.dates as mdates\n",
    "    import datetime\n",
    "\n",
    "    #Defino fechas para graficar\n",
    "    start_date = pd.to_datetime(fecha_min)\n",
    "    end_date = pd.to_datetime(fecha_max)\n",
    "    \n",
    "    #Filtro segun codigo_estacion y tomo valores entre las fechas \n",
    "    #indicadas\n",
    "    data = df[(df[\"codigo_estacion\"]==codigo_estacion)&\n",
    "        (df[\"fecha\"]>=start_date) & (df[\"fecha\"]<=end_date)]\n",
    "    #Ordenamos filas según fecha\n",
    "    data2 = data.sort_values(by=[\"fecha\"])\n",
    "\n",
    "    #Normalizo las columnas antes de graficar\n",
    "    col1 = data2[columnas[0]]/(max(data2[columnas[0]])-min(data2[columnas[0]]))\n",
    "    col2 = data2[columnas[1]]/(max(data2[columnas[1]])-min(data2[columnas[1]]))\n",
    "    col3 = data2[columnas[2]]/(max(data2[columnas[2]])-min(data2[columnas[2]]))\n",
    "    \n",
    " \n",
    "    plt.figure(figsize=(20,4))\n",
    "    plt.plot(data2[\"fecha\"],col1)\n",
    "    plt.plot(data2[\"fecha\"],col2)\n",
    "    plt.plot(data2[\"fecha\"],col3)\n",
    "    plt.xlabel('Fecha')\n",
    "    #plt.ylabel(str(columnas))\n",
    "    plt.legend()"
   ]
  },
  {
   "cell_type": "code",
   "execution_count": null,
   "metadata": {},
   "outputs": [],
   "source": [
    "#Probando función\n",
    "#Códigos para probar: 4540001 (1960-1984),11335002 (2017)\n",
    "time_plot_estaciones_varias_columnas(11335002,[\"caudal\",\"precip_promedio\",\"temp_max_promedio\"],'2017-01-01','2017-12-31')"
   ]
  },
  {
   "cell_type": "code",
   "execution_count": null,
   "metadata": {},
   "outputs": [],
   "source": []
  },
  {
   "cell_type": "markdown",
   "metadata": {},
   "source": [
    "### Variables nuevas"
   ]
  },
  {
   "cell_type": "markdown",
   "metadata": {},
   "source": [
    "Crearemos una nueva columna para indicar la estación, considerando:\n",
    "* Otoño: 21/marzo - 20/junio\n",
    "* Invierno: 21/junio - 20/septiembre\n",
    "* Primavera: 21/septiembre - 20/Diciembre\n",
    "* Verano: 21/Diciembre - 20/marzo"
   ]
  },
  {
   "cell_type": "code",
   "execution_count": null,
   "metadata": {},
   "outputs": [],
   "source": [
    "#Máscaras para cada estación del año\n",
    "mask_otoño = (df.fecha.dt.month==4) | (df.fecha.dt.month==5) | ((df.fecha.dt.month==3) & \n",
    "            (df.fecha.dt.day>=21)) | ((df.fecha.dt.month==6) & (df.fecha.dt.day<=21))\n",
    "mask_invierno = (df.fecha.dt.month==7) | (df.fecha.dt.month==8) | ((df.fecha.dt.month==6)&\n",
    "            (df.fecha.dt.day>=21)) | ((df.fecha.dt.month==9)&(df.fecha.dt.day<=20))\n",
    "mask_primavera = (df.fecha.dt.month==10) | (df.fecha.dt.month==11) | ((df.fecha.dt.month==9)\n",
    "    &(df.fecha.dt.day>=21)) | ((df.fecha.dt.month==12)&(df.fecha.dt.day<=20))\n",
    "mask_verano = (df.fecha.dt.month==1) | (df.fecha.dt.month==2) | ((df.fecha.dt.month==12)\n",
    "    &(df.fecha.dt.day>=21)) | ((df.fecha.dt.month==3)&(df.fecha.dt.day<=20))"
   ]
  },
  {
   "cell_type": "code",
   "execution_count": null,
   "metadata": {},
   "outputs": [],
   "source": [
    "#Creo la columna con las estaciones\n",
    "df[\"estaciones\"] = 0\n",
    "df[\"estaciones\"].loc[mask_otoño] = \"otoño\"\n",
    "df[\"estaciones\"].loc[mask_invierno] = \"invierno\"\n",
    "df[\"estaciones\"].loc[mask_primavera] = \"primavera\"\n",
    "df[\"estaciones\"].loc[mask_verano] = \"verano\""
   ]
  },
  {
   "cell_type": "code",
   "execution_count": null,
   "metadata": {},
   "outputs": [],
   "source": []
  },
  {
   "cell_type": "code",
   "execution_count": null,
   "metadata": {},
   "outputs": [],
   "source": [
    "df.head(3)"
   ]
  },
  {
   "cell_type": "code",
   "execution_count": null,
   "metadata": {},
   "outputs": [],
   "source": [
    "cuencas = df.groupby(\"codigo_estacion\")\n",
    "cuencas_groups = cuencas.groups\n",
    "keys = cuencas_groups.keys()   #con esto tengo los códigos de todas las estaciones de medición de caudal\n",
    "estaciones_key = [\"otoño\",\"invierno\",\"primavera\",\"verano\"]\n",
    "df[\"caudal_extremo\"] = 0\n",
    "for cuencas in keys:\n",
    "    for est in estaciones_key:\n",
    "        caudales = df.caudal.loc[(df.codigo_estacion==cuencas)&(df.estaciones==est)]\n",
    "        p95caudal = np.percentile(caudales,95)\n",
    "        #df[\"caudal_extremo\"] = 0\n",
    "        df[\"caudal_extremo\"].loc[(df[\"codigo_estacion\"]==cuencas)&(df[\"estaciones\"]==est)&(df[\"caudal\"]>p95caudal)] = 1\n",
    "  "
   ]
  },
  {
   "cell_type": "code",
   "execution_count": null,
   "metadata": {},
   "outputs": [],
   "source": [
    "num_cuencas = df.gauge_id.unique()"
   ]
  },
  {
   "cell_type": "code",
   "execution_count": null,
   "metadata": {},
   "outputs": [],
   "source": [
    "len(num_cuencas)"
   ]
  },
  {
   "cell_type": "code",
   "execution_count": null,
   "metadata": {},
   "outputs": [],
   "source": [
    "#cuencas = df.groupby(\"codigo_estacion\")\n",
    "#cuencas_groups = cuencas.groups\n",
    "#cuencas_groups.keys()  "
   ]
  },
  {
   "cell_type": "code",
   "execution_count": null,
   "metadata": {},
   "outputs": [],
   "source": [
    "#temp_extremo\n",
    "df[\"temp_extremo\"] = 0\n",
    "for cuencas in keys:\n",
    "    for est in estaciones_key:\n",
    "        temps = df.temp_max_promedio.loc[(df.codigo_estacion==cuencas)&(df.estaciones==est)]\n",
    "        p95temp = np.percentile(temps,95)\n",
    "        df[\"temp_extremo\"].loc[(df[\"codigo_estacion\"]==cuencas)&(df[\"estaciones\"]==est)&(df[\"temp_max_promedio\"]>p95temp)] = 1\n",
    "  "
   ]
  },
  {
   "cell_type": "code",
   "execution_count": null,
   "metadata": {},
   "outputs": [],
   "source": []
  },
  {
   "cell_type": "code",
   "execution_count": null,
   "metadata": {},
   "outputs": [],
   "source": [
    "#precip_extremo\n",
    "df[\"precip_extremo\"] = 0\n",
    "for cuencas in keys:\n",
    "    for est in estaciones_key:\n",
    "        precip = df.precip_promedio.loc[(df.codigo_estacion==cuencas)&(df.estaciones==est)]\n",
    "        p95precip = np.percentile(precip,95)\n",
    "        df[\"precip_extremo\"].loc[(df[\"codigo_estacion\"]==cuencas)&(df[\"estaciones\"]==est)&(df[\"precip_promedio\"]>p95precip)] = 1"
   ]
  },
  {
   "cell_type": "code",
   "execution_count": null,
   "metadata": {},
   "outputs": [],
   "source": [
    "df.head(100)"
   ]
  },
  {
   "cell_type": "code",
   "execution_count": null,
   "metadata": {},
   "outputs": [],
   "source": []
  },
  {
   "cell_type": "markdown",
   "metadata": {},
   "source": [
    "### Variabel caudal_extremo"
   ]
  },
  {
   "cell_type": "code",
   "execution_count": null,
   "metadata": {},
   "outputs": [],
   "source": [
    "keys"
   ]
  },
  {
   "cell_type": "code",
   "execution_count": null,
   "metadata": {},
   "outputs": [],
   "source": [
    "time_plot_una_estacion(1020003, \"caudal_extremo\", '1960-01-01', '2018-12-12')\n",
    "time_plot_una_estacion(1021001, \"caudal_extremo\", '1960-01-01', '2018-12-12')\n",
    "time_plot_una_estacion(2110004, \"caudal_extremo\", '1960-01-01', '2018-12-12')\n",
    "time_plot_una_estacion(5423003, \"caudal_extremo\", '1960-01-01', '2018-12-12')\n",
    "time_plot_una_estacion(8132001, \"caudal_extremo\", '1960-01-01', '2018-12-12')"
   ]
  },
  {
   "cell_type": "markdown",
   "metadata": {},
   "source": [
    "Graficando en algunas cuencas lo que se observa es que los caudales extremos entre una y otra cuenca están poco\n",
    "relacionados, al menos observando a lo largo de los años. Si se observara para un año en particular:"
   ]
  },
  {
   "cell_type": "code",
   "execution_count": null,
   "metadata": {},
   "outputs": [],
   "source": [
    "time_plot_una_estacion(1020003, \"caudal_extremo\", '2000-01-01', '2000-12-12')\n",
    "time_plot_una_estacion(1021001, \"caudal_extremo\", '2000-01-01', '2000-12-12')\n",
    "time_plot_una_estacion(2110004, \"caudal_extremo\", '2000-01-01', '2000-12-12')\n",
    "time_plot_una_estacion(5423003, \"caudal_extremo\", '2000-01-01', '2000-12-12')\n",
    "time_plot_una_estacion(8132001, \"caudal_extremo\", '2000-01-01', '2000-12-12')"
   ]
  },
  {
   "cell_type": "markdown",
   "metadata": {},
   "source": [
    "A lo largo de un año también son muy variables los caudales extremos comparando entre cuencas."
   ]
  },
  {
   "cell_type": "code",
   "execution_count": null,
   "metadata": {},
   "outputs": [],
   "source": [
    "## Agrupamos el dataset de acuerdo a los canales registrados en la variable gauge_id y calculamos el porcentaje \n",
    "#de caudales extremos de cada cuenca "
   ]
  },
  {
   "cell_type": "code",
   "execution_count": null,
   "metadata": {},
   "outputs": [],
   "source": [
    "#Primero haremos una prueba manual calculando el porcentaje para une cuenca\n",
    "df[df['gauge_id']==1020003][['gauge_id','caudal_extremo']]"
   ]
  },
  {
   "cell_type": "code",
   "execution_count": null,
   "metadata": {},
   "outputs": [],
   "source": [
    "porcentaje_test = sum(df[df['gauge_id']==1020003]['caudal_extremo'])/len(df[df['gauge_id']==1020003]['caudal_extremo'])\n",
    "porcentaje_test"
   ]
  },
  {
   "cell_type": "code",
   "execution_count": null,
   "metadata": {},
   "outputs": [],
   "source": [
    "#Realizaremos operaciones sobre cada grupo (cuenca) por separado, en vez de usar una operación sobre todas las filas\n",
    "df.groupby('gauge_id')[\"caudal_extremo\"].aggregate(\n",
    "    {\n",
    "    \"Registros Caudales Extremos\": np.sum,\n",
    "    \"Total Registros\": lambda h: len(h),\n",
    "    \"Porcentaje\": lambda h:np.sum(h)/len(h)*100\n",
    "    }\n",
    ")"
   ]
  },
  {
   "cell_type": "code",
   "execution_count": null,
   "metadata": {},
   "outputs": [],
   "source": [
    "#La cantidad de eventos de caudal extremo ronda el 5% en la mayoría de las cuencas, los comportamientos en las \n",
    "#diferentes cuencas son similares."
   ]
  },
  {
   "cell_type": "markdown",
   "metadata": {},
   "source": [
    "### Porcentaje de eventos extremos a través del tiempo"
   ]
  },
  {
   "cell_type": "code",
   "execution_count": null,
   "metadata": {},
   "outputs": [],
   "source": [
    "df.head()"
   ]
  },
  {
   "cell_type": "code",
   "execution_count": null,
   "metadata": {},
   "outputs": [],
   "source": [
    "#Creamos la columna year\n",
    "df[\"year\"] = df[\"fecha\"].dt.year\n"
   ]
  },
  {
   "cell_type": "code",
   "execution_count": null,
   "metadata": {},
   "outputs": [],
   "source": [
    "porcentaje_temp_extrema_year = df.groupby(\"year\")['temp_extremo'].aggregate(\n",
    "{\n",
    "    \"Porcentaje_temperatura_extrema\": lambda h:np.sum(h)/len(h)*100\n",
    "}\n",
    ")"
   ]
  },
  {
   "cell_type": "code",
   "execution_count": null,
   "metadata": {},
   "outputs": [],
   "source": [
    "porcentaje_temp_extrema_year.head(3)"
   ]
  },
  {
   "cell_type": "code",
   "execution_count": null,
   "metadata": {},
   "outputs": [],
   "source": [
    "porcentaje_temp_extrema_year.size"
   ]
  },
  {
   "cell_type": "code",
   "execution_count": null,
   "metadata": {},
   "outputs": [],
   "source": [
    "#Gráfico de barras\n",
    "plt.bar(porcentaje_temp_extrema_year.index,porcentaje_temp_extrema_year.Porcentaje)"
   ]
  },
  {
   "cell_type": "code",
   "execution_count": null,
   "metadata": {},
   "outputs": [],
   "source": []
  },
  {
   "cell_type": "code",
   "execution_count": null,
   "metadata": {},
   "outputs": [],
   "source": [
    "porcentaje_caudal_extremo_year = df.groupby(\"year\")['caudal_extremo'].aggregate(\n",
    "{\n",
    "    \"Porcentaje_caudal_extremo\": lambda h:np.sum(h)/len(h)*100\n",
    "}\n",
    ")\n",
    "porcentaje_precip_extrema_year = df.groupby(\"year\")['precip_extremo'].aggregate(\n",
    "{\n",
    "    \"Porcentaje_precipitacion_extrema\": lambda h:np.sum(h)/len(h)*100\n",
    "}\n",
    ")"
   ]
  },
  {
   "cell_type": "code",
   "execution_count": null,
   "metadata": {},
   "outputs": [],
   "source": [
    "barWidth = 0.4\n",
    "r1 = np.arange(len(porcentaje_temp_extrema_year.index))\n",
    "r2 = [x + barWidth for x in r1]\n",
    "index_plot = [r +0.2  for r in range(len(porcentaje_temp_extrema_year.index))]"
   ]
  },
  {
   "cell_type": "code",
   "execution_count": null,
   "metadata": {},
   "outputs": [],
   "source": [
    "plt.figure(figsize=(18,8))\n",
    "plt.plot(index_plot,porcentaje_caudal_extremo_year.Porcentaje_caudal_extremo,color=\"blue\")\n",
    "plt.bar(r1,porcentaje_temp_extrema_year.Porcentaje_temperatura_extrema,color=\"magenta\",label='Temperatura',align='center',width = 0.4)\n",
    "plt.bar(r2,porcentaje_precip_extrema_year.Porcentaje_precipitacion_extrema,color=\"gray\",label='Precipitaciones',align='center',width = 0.4)\n",
    "\n",
    "plt.xticks(index_plot,porcentaje_temp_extrema_year.index,rotation=90)\n",
    "plt.legend()\n"
   ]
  },
  {
   "cell_type": "code",
   "execution_count": null,
   "metadata": {},
   "outputs": [],
   "source": [
    "plt.plot(porcentaje_temp_extrema_year.index,porcentaje_caudal_extremo_year.Porcentaje_caudal_extremo)\n",
    "plt.plot(porcentaje_temp_extrema_year.index,porcentaje_temp_extrema_year.Porcentaje_temperatura_extrema)\n",
    "plt.plot(porcentaje_temp_extrema_year.index,porcentaje_precip_extrema_year.Porcentaje_precipitacion_extrema)\n",
    "plt.legend()"
   ]
  },
  {
   "cell_type": "code",
   "execution_count": null,
   "metadata": {},
   "outputs": [],
   "source": []
  }
 ],
 "metadata": {
  "kernelspec": {
   "display_name": "Python 3",
   "language": "python",
   "name": "python3"
  },
  "language_info": {
   "codemirror_mode": {
    "name": "ipython",
    "version": 3
   },
   "file_extension": ".py",
   "mimetype": "text/x-python",
   "name": "python",
   "nbconvert_exporter": "python",
   "pygments_lexer": "ipython3",
   "version": "3.7.1"
  }
 },
 "nbformat": 4,
 "nbformat_minor": 2
}
